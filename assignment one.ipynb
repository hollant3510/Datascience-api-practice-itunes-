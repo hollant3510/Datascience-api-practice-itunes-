{
 "cells": [
  {
   "cell_type": "code",
   "execution_count": 53,
   "metadata": {},
   "outputs": [],
   "source": [
    "#libs\n",
    "import requests\n",
    "import json\n",
    "from datetime import datetime\n",
    "#functions\n",
    "def pretty_print(data):\n",
    "    print (json.dumps(data, indent=2))\n",
    "    \n",
    "def year_from_date(date):\n",
    "    return datetime.strptime(date, \"%Y-%m-%dT%H:%M:%SZ\").year\n",
    "    \n",
    "def get_song_list(response_obj):\n",
    "    data = response_obj.json()\n",
    "    list_of_songs_json = data[\"results\"]\n",
    "    song_names = []\n",
    "    for x in list_of_songs_json:\n",
    "        song_names.append(x['trackName'])\n",
    "    return song_names\n",
    "\n",
    "def get_song_year_count(response_obj):\n",
    "    result = {}\n",
    "    data = response_obj.json()\n",
    "    list_of_songs_json = data[\"results\"]\n",
    "    \n",
    "    for x in list_of_songs_json:\n",
    "        release_year = year_from_date(x[\"releaseDate\"])\n",
    "        \n",
    "        if release_year in result:\n",
    "            result[release_year] = result[release_year] + 1\n",
    "        else:\n",
    "            result[release_year] = 1\n",
    "    \n",
    "    return result"
   ]
  },
  {
   "cell_type": "code",
   "execution_count": 54,
   "metadata": {},
   "outputs": [],
   "source": [
    "#fetches from api\n",
    "url = 'https://itunes.apple.com/search?term=Grateful+Dead&entity=song'\n",
    "response = requests.get(url)"
   ]
  },
  {
   "cell_type": "code",
   "execution_count": 55,
   "metadata": {},
   "outputs": [
    {
     "name": "stdout",
     "output_type": "stream",
     "text": [
      "200\n",
      "[\n",
      "  \"Touch of Grey\",\n",
      "  \"Truckin'\",\n",
      "  \"Casey Jones\",\n",
      "  \"Friend of the Devil\",\n",
      "  \"Uncle John's Band\",\n",
      "  \"Ripple\",\n",
      "  \"Bertha\",\n",
      "  \"Sugar Magnolia\",\n",
      "  \"Not Fade Away / Goin' Down the Road Feeling Bad\",\n",
      "  \"Touch of Grey\",\n",
      "  \"St. Stephen\",\n",
      "  \"Box of Rain\",\n",
      "  \"Brown-Eyed Woman\",\n",
      "  \"Jack Straw\",\n",
      "  \"Shakedown Street\",\n",
      "  \"Cumberland Blues\",\n",
      "  \"He's Gone\",\n",
      "  \"Fire On the Mountain\",\n",
      "  \"Mama Tried\",\n",
      "  \"Franklin's Tower\",\n",
      "  \"Ramble On Rose\",\n",
      "  \"Truckin'\",\n",
      "  \"Eyes of the World\",\n",
      "  \"I Know You Rider\",\n",
      "  \"Ripple\",\n",
      "  \"U.S. Blues\",\n",
      "  \"Hell In a Bucket\",\n",
      "  \"China Cat Sunflower\",\n",
      "  \"Scarlet Begonias\",\n",
      "  \"Wharf Rat\",\n",
      "  \"Tennessee Jed\",\n",
      "  \"Estimated Prophet\",\n",
      "  \"One More Saturday Night (Live at the Strand Lyceum, London, England, May 24, 1972)\",\n",
      "  \"Fire On the Mountain\",\n",
      "  \"The Music Never Stopped\",\n",
      "  \"Big Railroad Blues\",\n",
      "  \"The Golden Road (To Unlimited Devotion)\",\n",
      "  \"The Eleven\",\n",
      "  \"Sugar Magnolia\",\n",
      "  \"You Win Again\",\n",
      "  \"Sugar Magnolia\",\n",
      "  \"Good Lovin'\",\n",
      "  \"Mr. Charlie\",\n",
      "  \"Box of Rain\",\n",
      "  \"One More Saturday Night\",\n",
      "  \"Throwing Stones\",\n",
      "  \"Truckin'\",\n",
      "  \"Friend of the Devil\",\n",
      "  \"Epilogue\",\n",
      "  \"Hurts Me Too\"\n",
      "]\n",
      "{\n",
      "  \"1987\": 4,\n",
      "  \"1970\": 12,\n",
      "  \"1971\": 5,\n",
      "  \"1969\": 2,\n",
      "  \"1972\": 15,\n",
      "  \"1978\": 4,\n",
      "  \"1975\": 2,\n",
      "  \"1973\": 1,\n",
      "  \"1974\": 2,\n",
      "  \"1977\": 1,\n",
      "  \"2003\": 1,\n",
      "  \"1967\": 1\n",
      "}\n"
     ]
    }
   ],
   "source": [
    "#prints 200 response code\n",
    "if (response.status_code == 200):\n",
    "    print(response.status_code) \n",
    "    \n",
    "    pretty_print(get_song_list(response))\n",
    "    pretty_print(get_song_year_count(response))\n",
    "else:\n",
    "    print(\"Failed at response code\")\n",
    "    \n",
    "    "
   ]
  },
  {
   "cell_type": "code",
   "execution_count": 21,
   "metadata": {},
   "outputs": [],
   "source": [
    "\n",
    "    \n"
   ]
  },
  {
   "cell_type": "code",
   "execution_count": null,
   "metadata": {},
   "outputs": [],
   "source": []
  }
 ],
 "metadata": {
  "kernelspec": {
   "display_name": "Python 3",
   "language": "python",
   "name": "python3"
  },
  "language_info": {
   "codemirror_mode": {
    "name": "ipython",
    "version": 3
   },
   "file_extension": ".py",
   "mimetype": "text/x-python",
   "name": "python",
   "nbconvert_exporter": "python",
   "pygments_lexer": "ipython3",
   "version": "3.7.1"
  }
 },
 "nbformat": 4,
 "nbformat_minor": 2
}
